{
 "cells": [
  {
   "cell_type": "markdown",
   "metadata": {},
   "source": [
    "With the help of this we can  find the relation between two variables\n",
    "\n",
    "x=independent variable\n",
    "\n",
    "y=dependent variable\n",
    "\n",
    "y=mx+c\n",
    "\n",
    "y=b0+b1x this is regression line equation\n",
    "\n",
    "b0 is the y intercept\n",
    "\n",
    "b1 - slope of line i.e m\n",
    "\n",
    "b0 -intercept of y i.e c\n",
    "\n",
    "x - independant variable"
   ]
  },
  {
   "cell_type": "markdown",
   "metadata": {},
   "source": [
    "### LINEAR REGRESSION"
   ]
  },
  {
   "cell_type": "code",
   "execution_count": 1,
   "metadata": {},
   "outputs": [
    {
     "name": "stdout",
     "output_type": "stream",
     "text": [
      "[[2.8]\n",
      " [3.4]\n",
      " [4. ]\n",
      " [4.6]\n",
      " [5.2]]\n",
      "y intercept: [2.2]\n",
      "slope [[0.6]]\n"
     ]
    }
   ],
   "source": [
    "#linear regression\n",
    "from sklearn.linear_model import LinearRegression\n",
    "import numpy as np\n",
    "#step1\n",
    "x=np.array([1,2,3,4,5]).reshape(-1,1)              #creating an array by using numpy and reshaping it\n",
    "y=np.array([2,4,5,4,5]).reshape(-1,1)\n",
    "#step2\n",
    "model=LinearRegression()                        #defining model linear regression\n",
    "#step3\n",
    "model.fit(x,y)                                  #fitting a model\n",
    "#step 4\n",
    "ypred=model.predict(x)                         #prediction of model\n",
    "print(ypred)\n",
    "print(\"y intercept:\",model.intercept_)         #finding y intercept where x is assumed to be 0\n",
    "print(\"slope\",model.coef_)                     #slope of line"
   ]
  },
  {
   "cell_type": "code",
   "execution_count": 21,
   "metadata": {},
   "outputs": [
    {
     "data": {
      "image/png": "[encoded data removed]",
      "text/plain": [
       "<Figure size 432x288 with 1 Axes>"
      ]
     },
     "metadata": {
      "needs_background": "light"
     },
     "output_type": "display_data"
    }
   ],
   "source": [
    "#visuaization using seaborn and matplotlib\n",
    "import matplotlib.pyplot as plt\n",
    "import seaborn as sns\n",
    "plt.scatter(x,y)\n",
    "plt.plot(x,ypred,color='r')        \n",
    "plt.show()"
   ]
  },
  {
   "cell_type": "code",
   "execution_count": 14,
   "metadata": {},
   "outputs": [
    {
     "name": "stdout",
     "output_type": "stream",
     "text": [
      "new prediction for 3.2 is: [4.12]\n"
     ]
    }
   ],
   "source": [
    "print(\"new prediction for 3.2 is:\",model.predict([[3.2]]))"
   ]
  },
  {
   "cell_type": "code",
   "execution_count": 17,
   "metadata": {},
   "outputs": [
    {
     "name": "stdout",
     "output_type": "stream",
     "text": [
      "value of R square : 0.6000000000000001\n"
     ]
    }
   ],
   "source": [
    "# r square=sum of squared residuals\n",
    "# r square value should be higher for good fit\n",
    "print(\"value of R square :\",model.score(x,y))\n"
   ]
  },
  {
   "cell_type": "code",
   "execution_count": null,
   "metadata": {},
   "outputs": [],
   "source": [
    "#linear regresssion\n",
    "from sklearn.linear_model import LinearRegression\n",
    "import numpy as np\n",
    "import matplotlib.pyplot as plt\n",
    "import pandas as pd\n",
    "df=pd.read_csv(\"C:\\\\Users\\\\Pratik1\\\\Desktop\\\\student.csv\")\n",
    "df\n",
    "#step 1\n",
    "x=df[[\"Hours\"]]\n",
    "y=df[\"Scores\"]\n",
    "plt.scatter(x,y)#visualization to check linearity\n",
    "plt.show()"
   ]
  },
  {
   "cell_type": "code",
   "execution_count": 4,
   "metadata": {},
   "outputs": [
    {
     "data": {
      "image/png": "[encoded data removed]",
      "text/plain": [
       "<Figure size 432x288 with 1 Axes>"
      ]
     },
     "metadata": {
      "needs_background": "light"
     },
     "output_type": "display_data"
    },
    {
     "name": "stdout",
     "output_type": "stream",
     "text": [
      "    Actual  Predicted\n",
      "17      24  22.059339\n",
      "19      69  74.819412\n",
      "10      85  77.697234\n",
      "4       30  37.407724\n",
      "0       21  27.814984\n",
      "R square 0.9539991754950616\n",
      "y interpret 3.8331325474587885\n",
      "slope [9.59274046]\n"
     ]
    }
   ],
   "source": [
    "#linear regresssion\n",
    "from sklearn.linear_model import LinearRegression\n",
    "import numpy as np\n",
    "import matplotlib.pyplot as plt\n",
    "import pandas as pd\n",
    "df=pd.read_csv(\"C:\\\\Users\\\\Pratik1\\\\Desktop\\dataset\\\\student.csv\")\n",
    "df\n",
    "#step 1\n",
    "x=df[[\"Hours\"]]\n",
    "y=df[\"Scores\"]\n",
    "plt.scatter(x,y)#visualization to check linearity\n",
    "plt.show()\n",
    "#step2\n",
    "from sklearn.linear_model import LinearRegression\n",
    "import numpy as np\n",
    "import matplotlib.pyplot as plt\n",
    "import pandas as pd\n",
    "from sklearn.model_selection import train_test_split\n",
    "xtrain,xtest,ytrain,ytest=train_test_split(x,y,test_size=0.2)\n",
    "#step3\n",
    "model=LinearRegression()\n",
    "model.fit(xtrain,ytrain)\n",
    "\n",
    "#step4\n",
    "ypred=model.predict(xtest)\n",
    "\n",
    "data=pd.DataFrame({\"Actual\":ytest,\"Predicted\":ypred})\n",
    "print(data)\n",
    "\n",
    "print(\"R square\",model.score(xtrain,ytrain))\n",
    "print(\"y interpret\",model.intercept_)\n",
    "print(\"slope\",model.coef_)"
   ]
  }
 ],
 "metadata": {
  "kernelspec": {
   "display_name": "Python 3",
   "language": "python",
   "name": "python3"
  },
  "language_info": {
   "codemirror_mode": {
    "name": "ipython",
    "version": 3
   },
   "file_extension": ".py",
   "mimetype": "text/x-python",
   "name": "python",
   "nbconvert_exporter": "python",
   "pygments_lexer": "ipython3",
   "version": "3.7.3"
  }
 },
 "nbformat": 4,
 "nbformat_minor": 2
}
